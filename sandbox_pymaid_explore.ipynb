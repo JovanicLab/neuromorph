{
 "cells": [
  {
   "cell_type": "code",
   "execution_count": 1,
   "id": "4ec629fc",
   "metadata": {},
   "outputs": [],
   "source": [
    "import pymaid\n",
    "import navis\n",
    "import numpy as np\n",
    "import matplotlib.pyplot as plt"
   ]
  },
  {
   "cell_type": "code",
   "execution_count": 2,
   "id": "299948b7",
   "metadata": {},
   "outputs": [
    {
     "name": "stderr",
     "output_type": "stream",
     "text": [
      "INFO  : Global CATMAID instance set. Caching is ON. (pymaid)\n"
     ]
    }
   ],
   "source": [
    "rm = pymaid.CatmaidInstance(server='https://neurophyla.mrc-lmb.cam.ac.uk/catmaid/drosophila/l1/seymour/#',\n",
    "                            api_token='7bcc775ddacbc453aed6df4a030c146dcce23b08',\n",
    "                            project_id=1,\n",
    "                            http_user='Jovanic', # omit if not required\n",
    "                            http_password='orioles path') # omit if not required"
   ]
  },
  {
   "cell_type": "code",
   "execution_count": 3,
   "id": "dd3c8dab",
   "metadata": {},
   "outputs": [
    {
     "name": "stderr",
     "output_type": "stream",
     "text": [
      "INFO  : Cached data used. Use `pymaid.clear_cache()` to clear. (pymaid)\n"
     ]
    },
    {
     "data": {
      "text/plain": [
       "[5966099, 3886356]"
      ]
     },
     "execution_count": 3,
     "metadata": {},
     "output_type": "execute_result"
    }
   ],
   "source": [
    "skids = pymaid.get_skids_by_annotation('DAN-d1')\n",
    "skids"
   ]
  },
  {
   "cell_type": "code",
   "execution_count": 4,
   "id": "90f4d3ae",
   "metadata": {},
   "outputs": [
    {
     "name": "stderr",
     "output_type": "stream",
     "text": [
      "INFO  : Retrieving 1 node table(s)... (pymaid)\n",
      "INFO  : 9534 nodes retrieved. Creating table... (pymaid)\n"
     ]
    },
    {
     "data": {
      "application/vnd.jupyter.widget-view+json": {
       "model_id": "fe334ade403944deabf267d79ec53f7e",
       "version_major": 2,
       "version_minor": 0
      },
      "text/plain": [
       "Creating table:   0%|          | 0/1 [00:00<?, ?it/s]"
      ]
     },
     "metadata": {},
     "output_type": "display_data"
    },
    {
     "data": {
      "text/html": [
       "<div>\n",
       "<style scoped>\n",
       "    .dataframe tbody tr th:only-of-type {\n",
       "        vertical-align: middle;\n",
       "    }\n",
       "\n",
       "    .dataframe tbody tr th {\n",
       "        vertical-align: top;\n",
       "    }\n",
       "\n",
       "    .dataframe thead th {\n",
       "        text-align: right;\n",
       "    }\n",
       "</style>\n",
       "<table border=\"1\" class=\"dataframe\">\n",
       "  <thead>\n",
       "    <tr style=\"text-align: right;\">\n",
       "      <th></th>\n",
       "      <th>node_id</th>\n",
       "      <th>parent_node_id</th>\n",
       "      <th>confidence</th>\n",
       "      <th>x</th>\n",
       "      <th>y</th>\n",
       "      <th>z</th>\n",
       "      <th>radius</th>\n",
       "      <th>creator</th>\n",
       "      <th>last_edited</th>\n",
       "      <th>skeleton_id</th>\n",
       "      <th>reviewers</th>\n",
       "      <th>tags</th>\n",
       "    </tr>\n",
       "  </thead>\n",
       "  <tbody>\n",
       "    <tr>\n",
       "      <th>0</th>\n",
       "      <td>24977452</td>\n",
       "      <td>13955159</td>\n",
       "      <td>5</td>\n",
       "      <td>32013.1</td>\n",
       "      <td>26913.5</td>\n",
       "      <td>35800.0</td>\n",
       "      <td>-1.0</td>\n",
       "      <td>michael</td>\n",
       "      <td>2022-10-13 10:49:01+00:00</td>\n",
       "      <td>5966099</td>\n",
       "      <td>NaN</td>\n",
       "      <td>NaN</td>\n",
       "    </tr>\n",
       "    <tr>\n",
       "      <th>1</th>\n",
       "      <td>24977450</td>\n",
       "      <td>24977451</td>\n",
       "      <td>5</td>\n",
       "      <td>32313.3</td>\n",
       "      <td>27019.9</td>\n",
       "      <td>35600.0</td>\n",
       "      <td>-1.0</td>\n",
       "      <td>michael</td>\n",
       "      <td>2022-10-13 10:48:58+00:00</td>\n",
       "      <td>5966099</td>\n",
       "      <td>NaN</td>\n",
       "      <td>NaN</td>\n",
       "    </tr>\n",
       "    <tr>\n",
       "      <th>2</th>\n",
       "      <td>24977449</td>\n",
       "      <td>24977450</td>\n",
       "      <td>5</td>\n",
       "      <td>32503.3</td>\n",
       "      <td>26989.5</td>\n",
       "      <td>35500.0</td>\n",
       "      <td>-1.0</td>\n",
       "      <td>michael</td>\n",
       "      <td>2022-10-13 10:48:58+00:00</td>\n",
       "      <td>5966099</td>\n",
       "      <td>NaN</td>\n",
       "      <td>NaN</td>\n",
       "    </tr>\n",
       "    <tr>\n",
       "      <th>3</th>\n",
       "      <td>24977448</td>\n",
       "      <td>24977449</td>\n",
       "      <td>5</td>\n",
       "      <td>32552.7</td>\n",
       "      <td>26962.9</td>\n",
       "      <td>35450.0</td>\n",
       "      <td>-1.0</td>\n",
       "      <td>michael</td>\n",
       "      <td>2022-10-13 10:48:58+00:00</td>\n",
       "      <td>5966099</td>\n",
       "      <td>NaN</td>\n",
       "      <td>NaN</td>\n",
       "    </tr>\n",
       "    <tr>\n",
       "      <th>4</th>\n",
       "      <td>24977447</td>\n",
       "      <td>24977448</td>\n",
       "      <td>5</td>\n",
       "      <td>32571.7</td>\n",
       "      <td>27004.7</td>\n",
       "      <td>35400.0</td>\n",
       "      <td>-1.0</td>\n",
       "      <td>michael</td>\n",
       "      <td>2022-10-13 10:48:58+00:00</td>\n",
       "      <td>5966099</td>\n",
       "      <td>NaN</td>\n",
       "      <td>NaN</td>\n",
       "    </tr>\n",
       "  </tbody>\n",
       "</table>\n",
       "</div>"
      ],
      "text/plain": [
       "    node_id  parent_node_id  confidence        x        y        z  radius   \n",
       "0  24977452        13955159           5  32013.1  26913.5  35800.0    -1.0  \\\n",
       "1  24977450        24977451           5  32313.3  27019.9  35600.0    -1.0   \n",
       "2  24977449        24977450           5  32503.3  26989.5  35500.0    -1.0   \n",
       "3  24977448        24977449           5  32552.7  26962.9  35450.0    -1.0   \n",
       "4  24977447        24977448           5  32571.7  27004.7  35400.0    -1.0   \n",
       "\n",
       "   creator               last_edited skeleton_id reviewers tags  \n",
       "0  michael 2022-10-13 10:49:01+00:00     5966099       NaN  NaN  \n",
       "1  michael 2022-10-13 10:48:58+00:00     5966099       NaN  NaN  \n",
       "2  michael 2022-10-13 10:48:58+00:00     5966099       NaN  NaN  \n",
       "3  michael 2022-10-13 10:48:58+00:00     5966099       NaN  NaN  \n",
       "4  michael 2022-10-13 10:48:58+00:00     5966099       NaN  NaN  "
      ]
     },
     "execution_count": 4,
     "metadata": {},
     "output_type": "execute_result"
    }
   ],
   "source": [
    "tn_table = pymaid.get_node_table(skids[0])\n",
    "tn_table.head()"
   ]
  },
  {
   "cell_type": "code",
   "execution_count": 5,
   "id": "5bd2fc0b",
   "metadata": {},
   "outputs": [
    {
     "name": "stderr",
     "output_type": "stream",
     "text": [
      "INFO  : Cached cleared. (pymaid)\n"
     ]
    },
    {
     "data": {
      "application/vnd.jupyter.widget-view+json": {
       "model_id": "9f5f0715418048ab9623e40500fe2ba1",
       "version_major": 2,
       "version_minor": 0
      },
      "text/plain": [
       "Fetch neurons:   0%|          | 0/2 [00:00<?, ?it/s]"
      ]
     },
     "metadata": {},
     "output_type": "display_data"
    },
    {
     "data": {
      "application/vnd.jupyter.widget-view+json": {
       "model_id": "4f6fdfa957584cdcb6b848ab7a543f17",
       "version_major": 2,
       "version_minor": 0
      },
      "text/plain": [
       "Make nrn:   0%|          | 0/2 [00:00<?, ?it/s]"
      ]
     },
     "metadata": {},
     "output_type": "display_data"
    },
    {
     "data": {
      "text/html": [
       "&lt;class 'pymaid.core.CatmaidNeuronList'&gt; containing 2 neurons (586.7KiB)<div>\n",
       "<style scoped>\n",
       "    .dataframe tbody tr th:only-of-type {\n",
       "        vertical-align: middle;\n",
       "    }\n",
       "\n",
       "    .dataframe tbody tr th {\n",
       "        vertical-align: top;\n",
       "    }\n",
       "\n",
       "    .dataframe thead th {\n",
       "        text-align: right;\n",
       "    }\n",
       "</style>\n",
       "<table border=\"1\" class=\"dataframe\">\n",
       "  <thead>\n",
       "    <tr style=\"text-align: right;\">\n",
       "      <th></th>\n",
       "      <th>type</th>\n",
       "      <th>name</th>\n",
       "      <th>skeleton_id</th>\n",
       "      <th>n_nodes</th>\n",
       "      <th>n_connectors</th>\n",
       "      <th>n_branches</th>\n",
       "      <th>n_leafs</th>\n",
       "      <th>cable_length</th>\n",
       "      <th>soma</th>\n",
       "      <th>units</th>\n",
       "    </tr>\n",
       "  </thead>\n",
       "  <tbody>\n",
       "    <tr>\n",
       "      <th>0</th>\n",
       "      <td>CatmaidNeuron</td>\n",
       "      <td>MBE4h right</td>\n",
       "      <td>5966099</td>\n",
       "      <td>9534</td>\n",
       "      <td>766</td>\n",
       "      <td>495</td>\n",
       "      <td>530</td>\n",
       "      <td>1.020799e+06</td>\n",
       "      <td>[13946140]</td>\n",
       "      <td>1 nanometer</td>\n",
       "    </tr>\n",
       "    <tr>\n",
       "      <th>1</th>\n",
       "      <td>CatmaidNeuron</td>\n",
       "      <td>MBE4h left</td>\n",
       "      <td>3886356</td>\n",
       "      <td>7918</td>\n",
       "      <td>727</td>\n",
       "      <td>513</td>\n",
       "      <td>541</td>\n",
       "      <td>9.113199e+05</td>\n",
       "      <td>[3886360]</td>\n",
       "      <td>1 nanometer</td>\n",
       "    </tr>\n",
       "  </tbody>\n",
       "</table>\n",
       "</div>"
      ],
      "text/plain": [
       "<class 'pymaid.core.CatmaidNeuronList'> containing 2 neurons (586.7KiB)\n",
       "            type         name skeleton_id  n_nodes  n_connectors  n_branches   \n",
       "0  CatmaidNeuron  MBE4h right     5966099     9534           766         495  \\\n",
       "1  CatmaidNeuron   MBE4h left     3886356     7918           727         513   \n",
       "\n",
       "   n_leafs  cable_length        soma        units  \n",
       "0      530  1.020799e+06  [13946140]  1 nanometer  \n",
       "1      541  9.113199e+05   [3886360]  1 nanometer  "
      ]
     },
     "execution_count": 5,
     "metadata": {},
     "output_type": "execute_result"
    }
   ],
   "source": [
    "pymaid.clear_cache()\n",
    "neuron_list = pymaid.get_neuron(skids)\n",
    "neuron_list"
   ]
  },
  {
   "cell_type": "code",
   "execution_count": 6,
   "id": "903c9783",
   "metadata": {},
   "outputs": [
    {
     "data": {
      "text/html": [
       "<div>\n",
       "<style scoped>\n",
       "    .dataframe tbody tr th:only-of-type {\n",
       "        vertical-align: middle;\n",
       "    }\n",
       "\n",
       "    .dataframe tbody tr th {\n",
       "        vertical-align: top;\n",
       "    }\n",
       "\n",
       "    .dataframe thead th {\n",
       "        text-align: right;\n",
       "    }\n",
       "</style>\n",
       "<table border=\"1\" class=\"dataframe\">\n",
       "  <thead>\n",
       "    <tr style=\"text-align: right;\">\n",
       "      <th></th>\n",
       "      <th>node_id</th>\n",
       "      <th>parent_id</th>\n",
       "      <th>creator_id</th>\n",
       "      <th>x</th>\n",
       "      <th>y</th>\n",
       "      <th>z</th>\n",
       "      <th>radius</th>\n",
       "      <th>confidence</th>\n",
       "      <th>type</th>\n",
       "    </tr>\n",
       "  </thead>\n",
       "  <tbody>\n",
       "    <tr>\n",
       "      <th>0</th>\n",
       "      <td>24977452</td>\n",
       "      <td>13955159</td>\n",
       "      <td>74</td>\n",
       "      <td>32013.099609</td>\n",
       "      <td>26913.500000</td>\n",
       "      <td>35800.0</td>\n",
       "      <td>-1.0</td>\n",
       "      <td>5</td>\n",
       "      <td>slab</td>\n",
       "    </tr>\n",
       "    <tr>\n",
       "      <th>1</th>\n",
       "      <td>24977450</td>\n",
       "      <td>24977451</td>\n",
       "      <td>74</td>\n",
       "      <td>32313.300781</td>\n",
       "      <td>27019.900391</td>\n",
       "      <td>35600.0</td>\n",
       "      <td>-1.0</td>\n",
       "      <td>5</td>\n",
       "      <td>slab</td>\n",
       "    </tr>\n",
       "    <tr>\n",
       "      <th>2</th>\n",
       "      <td>24977449</td>\n",
       "      <td>24977450</td>\n",
       "      <td>74</td>\n",
       "      <td>32503.300781</td>\n",
       "      <td>26989.500000</td>\n",
       "      <td>35500.0</td>\n",
       "      <td>-1.0</td>\n",
       "      <td>5</td>\n",
       "      <td>slab</td>\n",
       "    </tr>\n",
       "    <tr>\n",
       "      <th>3</th>\n",
       "      <td>24977448</td>\n",
       "      <td>24977449</td>\n",
       "      <td>74</td>\n",
       "      <td>32552.699219</td>\n",
       "      <td>26962.900391</td>\n",
       "      <td>35450.0</td>\n",
       "      <td>-1.0</td>\n",
       "      <td>5</td>\n",
       "      <td>slab</td>\n",
       "    </tr>\n",
       "    <tr>\n",
       "      <th>4</th>\n",
       "      <td>24977447</td>\n",
       "      <td>24977448</td>\n",
       "      <td>74</td>\n",
       "      <td>32571.699219</td>\n",
       "      <td>27004.699219</td>\n",
       "      <td>35400.0</td>\n",
       "      <td>-1.0</td>\n",
       "      <td>5</td>\n",
       "      <td>slab</td>\n",
       "    </tr>\n",
       "  </tbody>\n",
       "</table>\n",
       "</div>"
      ],
      "text/plain": [
       "    node_id  parent_id creator_id             x             y        z   \n",
       "0  24977452   13955159         74  32013.099609  26913.500000  35800.0  \\\n",
       "1  24977450   24977451         74  32313.300781  27019.900391  35600.0   \n",
       "2  24977449   24977450         74  32503.300781  26989.500000  35500.0   \n",
       "3  24977448   24977449         74  32552.699219  26962.900391  35450.0   \n",
       "4  24977447   24977448         74  32571.699219  27004.699219  35400.0   \n",
       "\n",
       "   radius confidence  type  \n",
       "0    -1.0          5  slab  \n",
       "1    -1.0          5  slab  \n",
       "2    -1.0          5  slab  \n",
       "3    -1.0          5  slab  \n",
       "4    -1.0          5  slab  "
      ]
     },
     "execution_count": 6,
     "metadata": {},
     "output_type": "execute_result"
    }
   ],
   "source": [
    "neuron_list[0].nodes.head()"
   ]
  },
  {
   "cell_type": "code",
   "execution_count": 7,
   "id": "268d23d2",
   "metadata": {},
   "outputs": [
    {
     "data": {
      "image/png": "[encoded data removed]",
      "text/plain": [
       "<Figure size 720x720 with 1 Axes>"
      ]
     },
     "metadata": {
      "needs_background": "light"
     },
     "output_type": "display_data"
    }
   ],
   "source": [
    "import matplotlib.pyplot as plt\n",
    "import navis\n",
    "# Plot using matplotlib's 3D capabilities\n",
    "fig, ax = navis.plot2d(neuron_list, method='3d_complex')\n",
    "# Change from default frontal view to lateral view\n",
    "ax.azim = 0\n",
    "# Zoom in a bit\n",
    "ax.dist = 6\n",
    "plt.show()"
   ]
  },
  {
   "cell_type": "code",
   "execution_count": null,
   "id": "c69f4b2b",
   "metadata": {},
   "outputs": [],
   "source": []
  }
 ],
 "metadata": {
  "kernelspec": {
   "display_name": "neuromorph",
   "language": "python",
   "name": "python3"
  },
  "language_info": {
   "codemirror_mode": {
    "name": "ipython",
    "version": 3
   },
   "file_extension": ".py",
   "mimetype": "text/x-python",
   "name": "python",
   "nbconvert_exporter": "python",
   "pygments_lexer": "ipython3",
   "version": "3.9.7"
  }
 },
 "nbformat": 4,
 "nbformat_minor": 5
}
